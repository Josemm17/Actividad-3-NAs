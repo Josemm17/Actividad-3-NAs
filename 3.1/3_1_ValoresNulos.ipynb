{
  "nbformat": 4,
  "nbformat_minor": 0,
  "metadata": {
    "colab": {
      "provenance": [],
      "authorship_tag": "ABX9TyMLXLRYjvVPaFCXJY+uWwdL",
      "include_colab_link": true
    },
    "kernelspec": {
      "name": "python3",
      "display_name": "Python 3"
    },
    "language_info": {
      "name": "python"
    }
  },
  "cells": [
    {
      "cell_type": "markdown",
      "metadata": {
        "id": "view-in-github",
        "colab_type": "text"
      },
      "source": [
        "<a href=\"https://colab.research.google.com/github/Josemm17/Actividad-3-NAs/blob/main/3.1/3_1_ValoresNulos.ipynb\" target=\"_parent\"><img src=\"https://colab.research.google.com/assets/colab-badge.svg\" alt=\"Open In Colab\"/></a>"
      ]
    },
    {
      "cell_type": "code",
      "execution_count": 1,
      "metadata": {
        "id": "GW6BREr1xozp"
      },
      "outputs": [],
      "source": [
        "#importar librerias\n",
        "import pandas as pd\n",
        "import numpy as np\n",
        "import matplotlib.pyplot as plt"
      ]
    },
    {
      "cell_type": "code",
      "source": [
        "data=pd.read_csv(\"Ventas_totales.csv\")\n",
        "print(data)"
      ],
      "metadata": {
        "colab": {
          "base_uri": "https://localhost:8080/"
        },
        "collapsed": true,
        "id": "pq1-r3Gix36m",
        "outputId": "315c8d85-22d0-4fe9-a466-04b9ecd395bf"
      },
      "execution_count": 4,
      "outputs": [
        {
          "output_type": "stream",
          "name": "stdout",
          "text": [
            "   indice_tiempo  ventas_precios_corrientes  ventas_precios_constantes  \\\n",
            "0     01/01/2017                    27858.9                    27477.3   \n",
            "1     01/02/2017                    25994.2                    25223.4   \n",
            "2     01/03/2017                    27780.0                    26334.3   \n",
            "3     01/04/2017                    29134.3                    27045.9   \n",
            "4     01/05/2017                    27969.0                    25631.9   \n",
            "..           ...                        ...                        ...   \n",
            "60    01/01/2022                   154517.1                    45463.4   \n",
            "61    01/02/2022                   152202.6                    23802.1   \n",
            "62    01/03/2022                       16.5                    24612.4   \n",
            "63    01/04/2022                   177148.1                    24140.5   \n",
            "64    01/05/2022                   179639.2                    23234.2   \n",
            "\n",
            "    ventas_totales_canal_venta  salon_ventas  canales_on_line  \\\n",
            "0                 2.785887e+07  2.759173e+07     2.671420e+05   \n",
            "1                 2.599420e+07  2.574918e+07     2.450208e+05   \n",
            "2                 2.778001e+07  2.747223e+07     3.077778e+05   \n",
            "3                 2.913427e+07  2.882748e+07     3.067927e+05   \n",
            "4                 2.796900e+07  2.756931e+07     3.996933e+05   \n",
            "..                         ...           ...              ...   \n",
            "60                1.545171e+08  1.496976e+08     4.819480e+06   \n",
            "61                1.522026e+08  1.484065e+08     3.796044e+06   \n",
            "62                1.689825e+08  1.643211e+08     4.661350e+05   \n",
            "63                1.771481e+08  1.730038e+08     4.144284e+06   \n",
            "64                1.796392e+08  1.753585e+08     4.280751e+06   \n",
            "\n",
            "    ventas_totales_medio_pago      efectivo  tarjetas_debito  \\\n",
            "0                2.785887e+07  1.023010e+07     6.864575e+06   \n",
            "1                2.599420e+07  9.719067e+06     6.438494e+06   \n",
            "2                2.778001e+07  1.024444e+07     6.908523e+06   \n",
            "3                2.913427e+07  1.031263e+07     7.454252e+06   \n",
            "4                2.796900e+07  1.014761e+07     6.735747e+06   \n",
            "..                        ...           ...              ...   \n",
            "60               1.545171e+08  4.696260e+07     4.605365e+07   \n",
            "61               1.522026e+08  4.629096e+07     4.528358e+07   \n",
            "62               1.689825e+08  5.126208e+07     4.736436e+07   \n",
            "63               1.771481e+08  5.319000e+07     5.006397e+07   \n",
            "64               1.796392e+08  5.273811e+07     4.988679e+07   \n",
            "\n",
            "    tarjetas_credito  ...       almacen     panaderia       lacteos  \\\n",
            "0       9.047205e+06  ...  6.705475e+06  9.459063e+05  2.880656e+06   \n",
            "1       8.309150e+06  ...  6.576625e+06  9.256186e+05  2.855640e+06   \n",
            "2       8.845010e+06  ...  7.437264e+06  1.016148e+06  3.188259e+06   \n",
            "3       9.458167e+06  ...  8.211244e+06  1.132396e+06  3.257140e+06   \n",
            "4       9.220930e+06  ...  7.651058e+06  1.033082e+06  3.232636e+06   \n",
            "..               ...  ...           ...           ...           ...   \n",
            "60      5.404833e+07  ...  3.750517e+07  4.860318e+06  1.610477e+07   \n",
            "61      5.370589e+07  ...  3.820979e+07  5.045920e+06  1.613982e+07   \n",
            "62               NaN  ...  4.541886e+07  5.922820e+06  1.841916e+07   \n",
            "63      6.535759e+07  ...  4.999168e+07  6.746167e+06  1.930946e+07   \n",
            "64      6.807009e+07  ...  5.015035e+07  6.667330e+06  2.012112e+07   \n",
            "\n",
            "          carnes  verduleria_fruteria  alimentos_preparados_rotiseria  \\\n",
            "0   2.606193e+06         1.050314e+06                    3.407774e+05   \n",
            "1   2.600084e+06         1.026167e+06                    3.282887e+05   \n",
            "2   2.824977e+06         1.075526e+06                    3.533352e+05   \n",
            "3   3.006159e+06         1.037213e+06                    3.596945e+05   \n",
            "4   2.799142e+06         9.826512e+05                    3.365680e+05   \n",
            "..           ...                  ...                             ...   \n",
            "60  1.740849e+07         6.138441e+06                    1.401929e+06   \n",
            "61  1.826074e+07         6.436028e+06                    1.370640e+06   \n",
            "62  2.082760e+07         6.886240e+06                    1.589119e+06   \n",
            "63  2.287784e+07         6.510666e+06                    1.719459e+06   \n",
            "64  2.284153e+07         6.314109e+06                    1.779483e+06   \n",
            "\n",
            "    articulos_limpieza_perfumeria  indumentaria_calzado_textiles_hogar  \\\n",
            "0                    4.397544e+06                         7.723718e+05   \n",
            "1                    4.053284e+06                         6.722905e+05   \n",
            "2                    4.354198e+06                         6.676967e+05   \n",
            "3                    4.355707e+06                         8.389482e+05   \n",
            "4                    4.206102e+06                         9.158951e+05   \n",
            "..                            ...                                  ...   \n",
            "60                   2.133021e+07                         3.782646e+06   \n",
            "61                   2.030545e+07                                  NaN   \n",
            "62                   2.294201e+07                         3.912852e+06   \n",
            "63                   2.313127e+07                         4.228054e+06   \n",
            "64                   2.357864e+07                         5.213153e+06   \n",
            "\n",
            "    electronicos_articulos_hogar         otros  \n",
            "0                   1.838507e+06  2.806660e+06  \n",
            "1                   1.257662e+06  2.354085e+06  \n",
            "2                   1.305675e+06  2.266189e+06  \n",
            "3                   1.535726e+06  2.146756e+06  \n",
            "4                   1.824462e+06  2.117971e+06  \n",
            "..                           ...           ...  \n",
            "60                  1.218755e+07  1.343307e+07  \n",
            "61                  9.189746e+06  1.330139e+07  \n",
            "62                  1.089879e+07           NaN  \n",
            "63                           NaN  1.191048e+07  \n",
            "64                  1.203960e+07  1.234998e+07  \n",
            "\n",
            "[65 rows x 24 columns]\n"
          ]
        }
      ]
    },
    {
      "cell_type": "code",
      "source": [
        "valores_nulos=data.isnull().sum()\n",
        "valores_nulos"
      ],
      "metadata": {
        "colab": {
          "base_uri": "https://localhost:8080/",
          "height": 837
        },
        "id": "ZT8F-ok7zJFy",
        "outputId": "2ceb29b6-7b5d-4981-cf74-e436fd328ce9"
      },
      "execution_count": 31,
      "outputs": [
        {
          "output_type": "execute_result",
          "data": {
            "text/plain": [
              "indice_tiempo                          0\n",
              "ventas_precios_corrientes              0\n",
              "ventas_precios_constantes              0\n",
              "ventas_totales_canal_venta             0\n",
              "salon_ventas                           0\n",
              "canales_on_line                        0\n",
              "ventas_totales_medio_pago              0\n",
              "efectivo                               0\n",
              "tarjetas_debito                        0\n",
              "tarjetas_credito                       0\n",
              "otros_medios                           0\n",
              "ventas_totales_grupo_articulos         0\n",
              "subtotal_ventas_alimentos_bebidas      0\n",
              "bebidas                                0\n",
              "almacen                                0\n",
              "panaderia                              0\n",
              "lacteos                                0\n",
              "carnes                                 0\n",
              "verduleria_fruteria                    0\n",
              "alimentos_preparados_rotiseria         0\n",
              "articulos_limpieza_perfumeria          0\n",
              "indumentaria_calzado_textiles_hogar    0\n",
              "electronicos_articulos_hogar           0\n",
              "otros                                  0\n",
              "dtype: int64"
            ],
            "text/html": [
              "<div>\n",
              "<style scoped>\n",
              "    .dataframe tbody tr th:only-of-type {\n",
              "        vertical-align: middle;\n",
              "    }\n",
              "\n",
              "    .dataframe tbody tr th {\n",
              "        vertical-align: top;\n",
              "    }\n",
              "\n",
              "    .dataframe thead th {\n",
              "        text-align: right;\n",
              "    }\n",
              "</style>\n",
              "<table border=\"1\" class=\"dataframe\">\n",
              "  <thead>\n",
              "    <tr style=\"text-align: right;\">\n",
              "      <th></th>\n",
              "      <th>0</th>\n",
              "    </tr>\n",
              "  </thead>\n",
              "  <tbody>\n",
              "    <tr>\n",
              "      <th>indice_tiempo</th>\n",
              "      <td>0</td>\n",
              "    </tr>\n",
              "    <tr>\n",
              "      <th>ventas_precios_corrientes</th>\n",
              "      <td>0</td>\n",
              "    </tr>\n",
              "    <tr>\n",
              "      <th>ventas_precios_constantes</th>\n",
              "      <td>0</td>\n",
              "    </tr>\n",
              "    <tr>\n",
              "      <th>ventas_totales_canal_venta</th>\n",
              "      <td>0</td>\n",
              "    </tr>\n",
              "    <tr>\n",
              "      <th>salon_ventas</th>\n",
              "      <td>0</td>\n",
              "    </tr>\n",
              "    <tr>\n",
              "      <th>canales_on_line</th>\n",
              "      <td>0</td>\n",
              "    </tr>\n",
              "    <tr>\n",
              "      <th>ventas_totales_medio_pago</th>\n",
              "      <td>0</td>\n",
              "    </tr>\n",
              "    <tr>\n",
              "      <th>efectivo</th>\n",
              "      <td>0</td>\n",
              "    </tr>\n",
              "    <tr>\n",
              "      <th>tarjetas_debito</th>\n",
              "      <td>0</td>\n",
              "    </tr>\n",
              "    <tr>\n",
              "      <th>tarjetas_credito</th>\n",
              "      <td>0</td>\n",
              "    </tr>\n",
              "    <tr>\n",
              "      <th>otros_medios</th>\n",
              "      <td>0</td>\n",
              "    </tr>\n",
              "    <tr>\n",
              "      <th>ventas_totales_grupo_articulos</th>\n",
              "      <td>0</td>\n",
              "    </tr>\n",
              "    <tr>\n",
              "      <th>subtotal_ventas_alimentos_bebidas</th>\n",
              "      <td>0</td>\n",
              "    </tr>\n",
              "    <tr>\n",
              "      <th>bebidas</th>\n",
              "      <td>0</td>\n",
              "    </tr>\n",
              "    <tr>\n",
              "      <th>almacen</th>\n",
              "      <td>0</td>\n",
              "    </tr>\n",
              "    <tr>\n",
              "      <th>panaderia</th>\n",
              "      <td>0</td>\n",
              "    </tr>\n",
              "    <tr>\n",
              "      <th>lacteos</th>\n",
              "      <td>0</td>\n",
              "    </tr>\n",
              "    <tr>\n",
              "      <th>carnes</th>\n",
              "      <td>0</td>\n",
              "    </tr>\n",
              "    <tr>\n",
              "      <th>verduleria_fruteria</th>\n",
              "      <td>0</td>\n",
              "    </tr>\n",
              "    <tr>\n",
              "      <th>alimentos_preparados_rotiseria</th>\n",
              "      <td>0</td>\n",
              "    </tr>\n",
              "    <tr>\n",
              "      <th>articulos_limpieza_perfumeria</th>\n",
              "      <td>0</td>\n",
              "    </tr>\n",
              "    <tr>\n",
              "      <th>indumentaria_calzado_textiles_hogar</th>\n",
              "      <td>0</td>\n",
              "    </tr>\n",
              "    <tr>\n",
              "      <th>electronicos_articulos_hogar</th>\n",
              "      <td>0</td>\n",
              "    </tr>\n",
              "    <tr>\n",
              "      <th>otros</th>\n",
              "      <td>0</td>\n",
              "    </tr>\n",
              "  </tbody>\n",
              "</table>\n",
              "</div><br><label><b>dtype:</b> int64</label>"
            ]
          },
          "metadata": {},
          "execution_count": 31
        }
      ]
    },
    {
      "cell_type": "code",
      "source": [
        "data['salon_ventas']=data['salon_ventas'].fillna(round(data['salon_ventas'].mean(),1))"
      ],
      "metadata": {
        "id": "zEkYEYExzrDS"
      },
      "execution_count": 9,
      "outputs": []
    },
    {
      "cell_type": "code",
      "source": [
        "data['tarjetas_debito']=data['tarjetas_debito'].fillna(round(data['tarjetas_debito'].mean(),1))"
      ],
      "metadata": {
        "id": "j0U9_X8f0aCf"
      },
      "execution_count": 11,
      "outputs": []
    },
    {
      "cell_type": "code",
      "source": [
        "data['tarjetas_credito']=data['tarjetas_credito'].fillna(round(data['tarjetas_credito'].mean(),1))"
      ],
      "metadata": {
        "id": "FFDFRZGT0nMi"
      },
      "execution_count": 13,
      "outputs": []
    },
    {
      "cell_type": "code",
      "source": [
        "data['otros_medios']=data['otros_medios'].fillna(round(data['otros_medios'].mean(),1))"
      ],
      "metadata": {
        "id": "A5oAmpPo1OHM"
      },
      "execution_count": 16,
      "outputs": []
    },
    {
      "cell_type": "code",
      "source": [
        "data['subtotal_ventas_alimentos_bebidas']=data['subtotal_ventas_alimentos_bebidas'].fillna(round(data['subtotal_ventas_alimentos_bebidas'].mean(),1))"
      ],
      "metadata": {
        "id": "0bGkZkZ31dU3"
      },
      "execution_count": 18,
      "outputs": []
    },
    {
      "cell_type": "code",
      "source": [
        "data['bebidas']=data['bebidas'].fillna(round(data['bebidas'].mean(),1))"
      ],
      "metadata": {
        "id": "mQ2Pl6HM1dnu"
      },
      "execution_count": 19,
      "outputs": []
    },
    {
      "cell_type": "code",
      "source": [
        "data['almacen']=data['almacen'].fillna(round(data['almacen'].mean(),1))"
      ],
      "metadata": {
        "id": "FM6SRPQl1onh"
      },
      "execution_count": 20,
      "outputs": []
    },
    {
      "cell_type": "code",
      "source": [
        "data['panaderia']=data['panaderia'].fillna(round(data['panaderia'].mean(),1))"
      ],
      "metadata": {
        "id": "riNE_os51tRK"
      },
      "execution_count": 22,
      "outputs": []
    },
    {
      "cell_type": "code",
      "source": [
        "data['lacteos']=data['lacteos'].fillna(round(data['lacteos'].mean(),1))"
      ],
      "metadata": {
        "id": "WopXCnDI1-mj"
      },
      "execution_count": 23,
      "outputs": []
    },
    {
      "cell_type": "code",
      "source": [
        "data['carnes']=data['carnes'].fillna(round(data['carnes'].mean(),1))"
      ],
      "metadata": {
        "id": "WI5iCUUQ2C49"
      },
      "execution_count": 24,
      "outputs": []
    },
    {
      "cell_type": "code",
      "source": [
        "data['verduleria_fruteria']=data['verduleria_fruteria'].fillna(round(data['verduleria_fruteria'].mean(),1))"
      ],
      "metadata": {
        "id": "F2IeNIfj2DIJ"
      },
      "execution_count": 26,
      "outputs": []
    },
    {
      "cell_type": "code",
      "source": [
        "data['alimentos_preparados_rotiseria']=data['alimentos_preparados_rotiseria'].fillna(round(data['alimentos_preparados_rotiseria'].mean(),1))"
      ],
      "metadata": {
        "id": "Qn9NFXsr2LnW"
      },
      "execution_count": 27,
      "outputs": []
    },
    {
      "cell_type": "code",
      "source": [
        "data['indumentaria_calzado_textiles_hogar']=data['indumentaria_calzado_textiles_hogar'].fillna(round(data['indumentaria_calzado_textiles_hogar'].mean(),1))"
      ],
      "metadata": {
        "id": "_Bkv-McW2V6o"
      },
      "execution_count": 28,
      "outputs": []
    },
    {
      "cell_type": "code",
      "source": [
        "data['electronicos_articulos_hogar']=data['electronicos_articulos_hogar'].fillna(round(data['electronicos_articulos_hogar'].mean(),1))"
      ],
      "metadata": {
        "id": "U7a274Ko2XH8"
      },
      "execution_count": 29,
      "outputs": []
    },
    {
      "cell_type": "code",
      "source": [
        "data['otros']=data['otros'].fillna(round(data['otros'].mean(),1))"
      ],
      "metadata": {
        "id": "kjwfsReO2ewI"
      },
      "execution_count": 30,
      "outputs": []
    }
  ]
}